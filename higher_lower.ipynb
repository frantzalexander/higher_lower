{
 "cells": [
  {
   "cell_type": "markdown",
   "id": "9516bcf3-ae92-4b50-b569-bc70f1b7bb38",
   "metadata": {
    "tags": []
   },
   "source": [
    "# <en><center>Higher Lower Game</center></en>"
   ]
  },
  {
   "cell_type": "markdown",
   "id": "8192d674-d805-4d26-9448-9a8a1b7ae9cc",
   "metadata": {},
   "source": [
    "## Libraries"
   ]
  },
  {
   "attachments": {
    "8455c7b5-c491-4410-b7ec-53a17e9e6820.png": {
     "image/png": "[encoded data removed]"
    }
   },
   "cell_type": "markdown",
   "id": "793e7397-7ab8-4a2f-9a48-0efca6165830",
   "metadata": {},
   "source": [
    "![Lunada.png](attachment:8455c7b5-c491-4410-b7ec-53a17e9e6820.png)"
   ]
  },
  {
   "cell_type": "code",
   "execution_count": null,
   "id": "23bb97e5-4638-4f0c-bd68-1fd518455692",
   "metadata": {},
   "outputs": [],
   "source": [
    "import random\n",
    "from hl_game_data import data\n",
    "from hl_game_logo import logo\n",
    "from hl_game_logo import vs"
   ]
  },
  {
   "cell_type": "code",
   "execution_count": null,
   "id": "8dfbbb5c-a650-4761-88d1-066f4b66d20d",
   "metadata": {},
   "outputs": [],
   "source": [
    "def higher_lower(data):\n",
    "    print(logo)\n",
    "\n",
    "    def get_first_celebrity(data):\n",
    "        first_celebrity = random.choice(data)\n",
    "        \n",
    "        return first_celebrity\n",
    "            \n",
    "    def get_new_celebrity(previous_celeb):\n",
    "        celeb_dup = True\n",
    "        while celeb_dup:\n",
    "            celeb = random.choice(data)\n",
    "            if celeb != previous_celeb:\n",
    "                celeb_dup = False\n",
    "                \n",
    "            return celeb\n",
    "    \n",
    "    def start_game(data):\n",
    "        score = 0\n",
    "        fc = get_first_celebrity(data)\n",
    "        game_continues = True\n",
    "\n",
    "        while game_continues:\n",
    "\n",
    "            a_follower_count = fc[\"follower_count\"]\n",
    "            fc_name = fc[\"name\"]\n",
    "            fc_description = fc[\"description\"]\n",
    "            fc_country = fc[\"country\"]\n",
    "            print(f\"Compare A: {fc_name}, a {fc_description}, from {fc_country}\\n\")\n",
    "            print(vs)\n",
    "            new_matchup = get_new_celebrity(\n",
    "                previous_celeb = fc\n",
    "            )\n",
    "            b_follower_count = new_matchup[\"follower_count\"]\n",
    "            nm_name = new_matchup[\"name\"]\n",
    "            nm_description = new_matchup[\"description\"]\n",
    "            nm_country = new_matchup[\"country\"]\n",
    "            print(f\"Compare B: {nm_name}, a {nm_description}, from {nm_country}\\n\")\n",
    "\n",
    "            user_choice = input(\"Who has more followers: 'A' or 'B'?\").upper()\n",
    "\n",
    "            # Win condition\n",
    "            if a_follower_count > b_follower_count:\n",
    "                if user_choice == \"A\":\n",
    "                    score += 1\n",
    "                    print(f\"You are right! Score: {score}\")\n",
    "                    fc = new_matchup\n",
    "\n",
    "                else:\n",
    "                    game_continues = False\n",
    "                    end_game()\n",
    "\n",
    "            elif b_follower_count > a_follower_count:\n",
    "                if user_choice == \"B\":\n",
    "                    score += 1\n",
    "                    print(f\"You are right! Score: {score}\")\n",
    "                    fc = new_matchup\n",
    "\n",
    "                else:\n",
    "                    game_continues = False\n",
    "                    end_game()\n",
    "        \n",
    "    def end_game():\n",
    "        user_input = input(\"Would you like to continue?\\nType 'y' for Yes and 'n' for No. \\n\").lower()\n",
    "        if user_input == 'y':\n",
    "            start_game(data)\n",
    "        else:\n",
    "            print(\"Let's play again later. \\nTake care!\")\n",
    "    \n",
    "    start_game(data)"
   ]
  },
  {
   "cell_type": "markdown",
   "id": "c574e8cb-d8e0-4eea-825f-abcea41103bf",
   "metadata": {},
   "source": [
    "---"
   ]
  }
 ],
 "metadata": {
  "kernelspec": {
   "display_name": "Python 3 (ipykernel)",
   "language": "python",
   "name": "python3"
  },
  "language_info": {
   "codemirror_mode": {
    "name": "ipython",
    "version": 3
   },
   "file_extension": ".py",
   "mimetype": "text/x-python",
   "name": "python",
   "nbconvert_exporter": "python",
   "pygments_lexer": "ipython3",
   "version": "3.9.13"
  }
 },
 "nbformat": 4,
 "nbformat_minor": 5
}
